{
 "cells": [
  {
   "cell_type": "markdown",
   "metadata": {},
   "source": [
    "# Spectral plotter"
   ]
  },
  {
   "cell_type": "markdown",
   "metadata": {},
   "source": [
    "<div>\n",
    "    When using this program, you need to make sure your data is inserted correctly. <br/> Make sure you have a <b>data</b> folder in the same directory as this notebook.\n",
    "</div>\n",
    "<img src=\"files/directoryView.png\"/>\n",
    "<div>\n",
    "    Inside the data folder you need to create a new folder for the star you want to analyse.\n",
    "</div>\n",
    "<img src=\"files/dataView.png\"/>\n",
    "<div>\n",
    "    In the folder for each star you would want to have the following data structure:\n",
    "    <ul>\n",
    "        <li>Directly inside the folder all the .fit files containing the spectra (preferrably an odd amount)</li>\n",
    "        <li>A <b>dark</b> folder containing all the dark frames, which would be substracted from the averaged spectral image</li>\n",
    "        <li>A <b>lamp</b> folder containing an image of the lamp used for calibration.</li>\n",
    "    </ul>\n",
    "    NOTE: The <b>results</b> folder should be created automatically.\n",
    "</div>\n",
    "<img src=\"files/folderView.png\"/>"
   ]
  },
  {
   "cell_type": "markdown",
   "metadata": {},
   "source": [
    "When executing the program only write in the name of the folder(in this case <b>'28Tau'</b>) and do not worry for the names of the .fit files inside the directory, they will be found automatically."
   ]
  },
  {
   "cell_type": "code",
   "execution_count": 1,
   "metadata": {},
   "outputs": [],
   "source": [
    "#Input star(directory) name\n",
    "star_name = 'gammaCas'"
   ]
  },
  {
   "cell_type": "code",
   "execution_count": 2,
   "metadata": {},
   "outputs": [],
   "source": [
    "# Prerequisites\n",
    "from astropy.io import fits \n",
    "import glob\n",
    "import numpy as np \n",
    "import matplotlib.pyplot as plt \n",
    "import math\n",
    "import fits_reducer as fr\n",
    "import lamp_calibrator as calibrator\n",
    "import graph_helper\n",
    "%matplotlib inline \n",
    "\n",
    "fr.create_reduced(star_name)"
   ]
  },
  {
   "cell_type": "code",
   "execution_count": 3,
   "metadata": {},
   "outputs": [],
   "source": [
    "#Prerequisites for editing\n",
    "input_file = 'data/' + star_name + '/results/' + star_name + '.fit'\n",
    "# Range of y in which all of the signal is contained\n",
    "rangelow = 560\n",
    "rangeup = 610\n",
    "# Upper bound from which pixels will be removed\n",
    "cosm_filt = 110000\n",
    "\n",
    "#lamp wavelengths - requires manual search for the wavelengths of the emission lines\n",
    "line_lambda = [\n",
    "    6598.95,\n",
    "    6532.88,\n",
    "    6506.30\n",
    "]\n",
    "\n",
    "lamp_file = glob.glob('data/' + star_name + '/lamp/*.fit')[0]\n",
    "otpt_file = 'data/' + star_name + '/results/' + star_name + '.png'\n",
    "max_otpt = 300\n",
    "spectrum_y = 580\n",
    "step_size = 3"
   ]
  },
  {
   "cell_type": "code",
   "execution_count": 5,
   "metadata": {},
   "outputs": [
    {
     "ename": "ValueError",
     "evalue": "too many values to unpack (expected 2)",
     "output_type": "error",
     "traceback": [
      "\u001b[1;31m---------------------------------------------------------------------------\u001b[0m",
      "\u001b[1;31mValueError\u001b[0m                                Traceback (most recent call last)",
      "\u001b[1;32m<ipython-input-5-00be512b6f82>\u001b[0m in \u001b[0;36m<module>\u001b[1;34m\u001b[0m\n\u001b[0;32m     14\u001b[0m \u001b[1;33m\u001b[0m\u001b[0m\n\u001b[0;32m     15\u001b[0m \u001b[1;31m# Smoothen the graph\u001b[0m\u001b[1;33m\u001b[0m\u001b[1;33m\u001b[0m\u001b[1;33m\u001b[0m\u001b[0m\n\u001b[1;32m---> 16\u001b[1;33m \u001b[0mavg_list\u001b[0m\u001b[1;33m,\u001b[0m \u001b[0msize\u001b[0m \u001b[1;33m=\u001b[0m \u001b[0mgraph_helper\u001b[0m\u001b[1;33m.\u001b[0m\u001b[0msmoothen_graph\u001b[0m\u001b[1;33m(\u001b[0m\u001b[0mxdata\u001b[0m\u001b[1;33m,\u001b[0m \u001b[0mstep_size\u001b[0m\u001b[1;33m)\u001b[0m\u001b[1;33m\u001b[0m\u001b[1;33m\u001b[0m\u001b[0m\n\u001b[0m\u001b[0;32m     17\u001b[0m \u001b[1;33m\u001b[0m\u001b[0m\n\u001b[0;32m     18\u001b[0m \u001b[1;31m# Gets the range of wavelengths and cuts the first and last 5 data points\u001b[0m\u001b[1;33m\u001b[0m\u001b[1;33m\u001b[0m\u001b[1;33m\u001b[0m\u001b[0m\n",
      "\u001b[1;31mValueError\u001b[0m: too many values to unpack (expected 2)"
     ]
    }
   ],
   "source": [
    "# Get the equation for the x-wavelength dependency\n",
    "get_wavelength = calibrator.get_equation_from_lamp(lamp_file, line_lambda, spectrum_y)\n",
    "\n",
    "# Loading input file\n",
    "datahdu = fits.open(input_file) \n",
    "data, hdr = datahdu[0].data, datahdu[0].header\n",
    "\n",
    "# Initialising axes\n",
    "y = range(hdr['NAXIS1'])\n",
    "\n",
    "# Summing all 'good' pixels in a column\n",
    "# (ones that are not cosmics or burnt out)\n",
    "xdata = np.sum(data[rangelow:rangeup,:], axis=0)\n",
    "\n",
    "# Smoothen the graph\n",
    "avg_list, size = graph_helper.smoothen_graph(xdata, step_size)\n",
    "        \n",
    "# Gets the range of wavelengths and cuts the first and last 5 data points\n",
    "x = np.linspace(get_wavelength(step_size*size-5),get_wavelength(5),num = size-10)\n",
    "# Reverse the dataset\n",
    "data = avg_list[5:size-5]\n",
    "data.reverse()\n",
    "\n",
    "# Plot graph\n",
    "plt.figure(figsize=(16,9))\n",
    "plt.rcParams.update({'font.size':22})\n",
    "plt.plot(x,data)\n",
    "plt.xlabel(r\"Wavelength ($\\AA$)\")\n",
    "plt.ylabel(\"Relative Flux (ADU)\")\n",
    "plt.xlim(get_wavelength(step_size*size-5),get_wavelength(5))\n",
    "plt.savefig(otpt_file)"
   ]
  },
  {
   "cell_type": "code",
   "execution_count": null,
   "metadata": {},
   "outputs": [],
   "source": []
  }
 ],
 "metadata": {
  "kernelspec": {
   "display_name": "Python 3",
   "language": "python",
   "name": "python3"
  },
  "language_info": {
   "codemirror_mode": {
    "name": "ipython",
    "version": 3
   },
   "file_extension": ".py",
   "mimetype": "text/x-python",
   "name": "python",
   "nbconvert_exporter": "python",
   "pygments_lexer": "ipython3",
   "version": "3.8.3"
  }
 },
 "nbformat": 4,
 "nbformat_minor": 4
}
